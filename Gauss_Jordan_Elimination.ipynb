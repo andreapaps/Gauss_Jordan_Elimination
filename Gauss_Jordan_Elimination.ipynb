{
 "cells": [
  {
   "cell_type": "code",
   "execution_count": 153,
   "metadata": {},
   "outputs": [
    {
     "name": "stdout",
     "output_type": "stream",
     "text": [
      "[[ 1.   4.3  2.   1.   5.6]\n",
      " [ 3.2  0.   1.   4.   5. ]\n",
      " [ 1.   3.   2.   2.   5.1]\n",
      " [ 4.   1.   5.   7.  13. ]\n",
      " [ 4.   2.   1.   2.   5. ]] [1. 2. 3. 4. 5.] ^T \n",
      "\n",
      "[[  1.           4.3          2.           1.           5.6       ]\n",
      " [  0.         -13.76        -5.4          0.8        -12.92      ]\n",
      " [  0.           0.           0.51017442   0.9244186    0.72063953]\n",
      " [  0.           0.           0.          -4.02564103   1.06837607]\n",
      " [  0.           0.           0.           0.          -1.93375796]] [  1.          -1.2          2.11337209 -12.4957265    9.74309979] ^T \n",
      "\n",
      "[[  1.           0.           0.           0.           0.        ]\n",
      " [  0.         -13.76         0.           0.           0.        ]\n",
      " [  0.           0.           0.51017442   0.           0.        ]\n",
      " [  0.           0.           0.          -4.02564103   0.        ]\n",
      " [  0.           0.           0.           0.          -1.93375796]] [  3.77086078 -24.19733568   4.11093333  -7.11279086   9.74309979] ^T \n",
      "\n",
      "x0 = 3.770860781730347\n",
      "x1 = 1.7585273020055636\n",
      "x2 = 8.05789781876737\n",
      "x3 = 1.7668716146977037\n",
      "x4 = -5.038427755819057\n"
     ]
    }
   ],
   "source": [
    "#Gauss Jordan Elimination with n x n matrices \n",
    "\n",
    "import numpy as np\n",
    "\n",
    "\n",
    "A = np.array([[1.0,4.3,2,1,5.6],[3.2,0,1,4,5.0],[1.0,3,2,2,5.1],\n",
    "              [4.0,1,5,7,13],[4,2,1,2,5.0]])\n",
    "B = np.array([1.0,2.0,3.0,4.0,5.0])\n",
    "             \n",
    "print(A,B,'^T','\\n')\n",
    "for i in range(len(A)-1):          # LOWER TRIANGLE gets zeros\n",
    "    for j in range(len(A)):\n",
    "        if j > i:\n",
    "            k = (A[j][i]/A[i][i])\n",
    "            A[j] = A[j] - k*A[i]\n",
    "            B[j] = B[j] - k*B[i]\n",
    "\n",
    "print(A, B,'^T','\\n')\n",
    "reverse = list(range(len(A)))[::-1]\n",
    "\n",
    "\n",
    "\n",
    "for m in reverse:                 #Upper Triangle gets zeros (Diagonal intact)\n",
    "    for n in reverse:\n",
    "        if m > n:\n",
    "            k = (A[n][m]/A[m][m])\n",
    "            A[n] = A[n] - k*A[m]\n",
    "            B[n] = B[n] - k*B[m]\n",
    "            \n",
    "print(A,B,'^T','\\n')\n",
    "for p in range(len(A)):\n",
    "    print(f'x{p} = {B[p]/A[p][p]}')"
   ]
  },
  {
   "cell_type": "code",
   "execution_count": null,
   "metadata": {},
   "outputs": [],
   "source": []
  },
  {
   "cell_type": "code",
   "execution_count": null,
   "metadata": {},
   "outputs": [],
   "source": []
  },
  {
   "cell_type": "code",
   "execution_count": null,
   "metadata": {},
   "outputs": [],
   "source": []
  },
  {
   "cell_type": "code",
   "execution_count": null,
   "metadata": {},
   "outputs": [],
   "source": []
  },
  {
   "cell_type": "code",
   "execution_count": null,
   "metadata": {},
   "outputs": [],
   "source": []
  }
 ],
 "metadata": {
  "kernelspec": {
   "display_name": "Python 3",
   "language": "python",
   "name": "python3"
  },
  "language_info": {
   "codemirror_mode": {
    "name": "ipython",
    "version": 3
   },
   "file_extension": ".py",
   "mimetype": "text/x-python",
   "name": "python",
   "nbconvert_exporter": "python",
   "pygments_lexer": "ipython3",
   "version": "3.8.8"
  }
 },
 "nbformat": 4,
 "nbformat_minor": 4
}
